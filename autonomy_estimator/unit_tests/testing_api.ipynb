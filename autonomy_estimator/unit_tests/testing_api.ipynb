{
 "cells": [
  {
   "cell_type": "code",
   "execution_count": 1,
   "metadata": {},
   "outputs": [],
   "source": [
    "import requests"
   ]
  },
  {
   "cell_type": "code",
   "execution_count": 11,
   "metadata": {},
   "outputs": [],
   "source": [
    "data = {\n",
    "    \"features\" : [\n",
    "        {\n",
    "            \"basemodel\":\"Prius\",\n",
    "            \"engine_displacement_liters\":1.5,\n",
    "            \"cylinders\":4,\n",
    "            \"transmission\":\"Automatic 3-spd\",\n",
    "            \"vehicle_size_class\": \"Compact Cars\",\n",
    "            \"make\":\"Toyota\"\n",
    "        },\n",
    "        {\n",
    "            \"basemodel\":\"Prius\",\n",
    "            \"engine_displacement_liters\":2,\n",
    "            \"cylinders\":8,\n",
    "            \"transmission\":\"Automatic 3-spd\",\n",
    "            \"vehicle_size_class\": \"Compact Cars\",\n",
    "            \"make\":\"Toyota\"\n",
    "        }\n",
    "    ]\n",
    "}"
   ]
  },
  {
   "cell_type": "code",
   "execution_count": 14,
   "metadata": {},
   "outputs": [
    {
     "data": {
      "text/plain": [
       "'{\"prediction\":[14.653973583174228,13.139887343796032]}\\n'"
      ]
     },
     "execution_count": 14,
     "metadata": {},
     "output_type": "execute_result"
    }
   ],
   "source": [
    "url = \"http://localhost:4000//predict\"\n",
    "requests.post(url, json = data).text"
   ]
  }
 ],
 "metadata": {
  "kernelspec": {
   "display_name": "poetry-u-EBJSZL-py3.11",
   "language": "python",
   "name": "python3"
  },
  "language_info": {
   "codemirror_mode": {
    "name": "ipython",
    "version": 3
   },
   "file_extension": ".py",
   "mimetype": "text/x-python",
   "name": "python",
   "nbconvert_exporter": "python",
   "pygments_lexer": "ipython3",
   "version": "3.11.4"
  }
 },
 "nbformat": 4,
 "nbformat_minor": 2
}
