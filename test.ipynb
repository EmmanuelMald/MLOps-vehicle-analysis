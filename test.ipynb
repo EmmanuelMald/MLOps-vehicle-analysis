{
 "cells": [
  {
   "cell_type": "code",
   "execution_count": 9,
   "metadata": {},
   "outputs": [
    {
     "ename": "ModuleNotFoundError",
     "evalue": "No module named 'requests'",
     "output_type": "error",
     "traceback": [
      "\u001b[1;31m---------------------------------------------------------------------------\u001b[0m",
      "\u001b[1;31mModuleNotFoundError\u001b[0m                       Traceback (most recent call last)",
      "Cell \u001b[1;32mIn[9], line 4\u001b[0m\n\u001b[0;32m      2\u001b[0m \u001b[38;5;28;01mimport\u001b[39;00m \u001b[38;5;21;01msklearn\u001b[39;00m\n\u001b[0;32m      3\u001b[0m \u001b[38;5;28;01mimport\u001b[39;00m \u001b[38;5;21;01mre\u001b[39;00m\n\u001b[1;32m----> 4\u001b[0m \u001b[38;5;28;01mimport\u001b[39;00m \u001b[38;5;21;01mrequests\u001b[39;00m\n\u001b[0;32m      7\u001b[0m veh_info \u001b[38;5;241m=\u001b[39m pd\u001b[38;5;241m.\u001b[39mread_csv(\u001b[38;5;124mr\u001b[39m\u001b[38;5;124m\"\u001b[39m\u001b[38;5;124minclude/vehicle_models.csv\u001b[39m\u001b[38;5;124m\"\u001b[39m, delimiter \u001b[38;5;241m=\u001b[39m \u001b[38;5;124m\"\u001b[39m\u001b[38;5;124m;\u001b[39m\u001b[38;5;124m\"\u001b[39m)\n\u001b[0;32m     10\u001b[0m \u001b[38;5;28;01mdef\u001b[39;00m \u001b[38;5;21mformatting_column_names\u001b[39m(df):\n",
      "\u001b[1;31mModuleNotFoundError\u001b[0m: No module named 'requests'"
     ]
    }
   ],
   "source": [
    "import pandas as pd\n",
    "import sklearn\n",
    "import re\n",
    "\n",
    "\n",
    "veh_info = pd.read_csv(r\"include/vehicle_models.csv\", delimiter = \";\")\n",
    "\n",
    "\n",
    "def formatting_column_names(df):\n",
    "    \n",
    "    col_dict = {x:re.sub(\"[-()/]\",\"\", x.lower().replace(\" \",\"_\").replace(\"__\",\"_\")) for x in df.columns }\n",
    "    df.rename(columns=col_dict, inplace = True)\n",
    "    \n",
    "    return df\n",
    "\n",
    "veh_info = formatting_column_names(veh_info)\n",
    "\n",
    "\n",
    "selected_cols = [\"make\",\n",
    "                 \"year\",\n",
    "                 \"drive\",\n",
    "                 \"basemodel\",\n",
    "                 \"model\",\n",
    "                 \"engine_displacement\",\n",
    "                 \"transmission\",\n",
    "                 \"transmission_descriptor\",\n",
    "                 \"vehicle_size_class\",\n",
    "                 \"guzzler\",\n",
    "                 \"t_charger\",\n",
    "                 \"s_charger\",\n",
    "                 \"atv_type\",\n",
    "                 \"electric_motor\",\n",
    "                 \"mfr_code\",\n",
    "                 \"created_on\",\n",
    "                 \"modified_on\",\n",
    "                 \"annual_petroleum_consumption_for_fuel_type1\",\n",
    "                 \"annual_petroleum_consumption_for_fuel_type2\",\n",
    "                 \"city_gasoline_consumption\",\n",
    "                 \"co2_fuel_type1\",\n",
    "                 \"co2_fuel_type2\",\n",
    "                 \"cylinders\",\n",
    "                 \"engine_descriptor\",\n",
    "                 \"annual_fuel_cost_for_fuel_type1\",\n",
    "                 \"annual_fuel_cost_for_fuel_type2\"\n",
    "                 ]\n",
    "\n",
    "veh_info = veh_info[selected_cols]\n",
    "print(veh_info.columns.tolist())\n"
   ]
  },
  {
   "cell_type": "code",
   "execution_count": null,
   "metadata": {},
   "outputs": [],
   "source": []
  }
 ],
 "metadata": {
  "kernelspec": {
   "display_name": "Python 3",
   "language": "python",
   "name": "python3"
  },
  "language_info": {
   "codemirror_mode": {
    "name": "ipython",
    "version": 3
   },
   "file_extension": ".py",
   "mimetype": "text/x-python",
   "name": "python",
   "nbconvert_exporter": "python",
   "pygments_lexer": "ipython3",
   "version": "3.11.4"
  }
 },
 "nbformat": 4,
 "nbformat_minor": 2
}
