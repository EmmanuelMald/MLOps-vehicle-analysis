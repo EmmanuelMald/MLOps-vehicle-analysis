{
 "cells": [
  {
   "cell_type": "code",
   "execution_count": 4,
   "metadata": {},
   "outputs": [],
   "source": [
    "import requests"
   ]
  },
  {
   "cell_type": "code",
   "execution_count": 7,
   "metadata": {},
   "outputs": [],
   "source": [
    "data = {\n",
    "    \"features\" : [\n",
    "        {\n",
    "            \"basemodel\":\"Prius\",\n",
    "            \"engine_displacement_liters\":1.5,\n",
    "            \"cylinders\":4,\n",
    "            \"transmission\":\"Automatic 3-spd\",\n",
    "            \"vehicle_size_class\": \"Compact Cars\",\n",
    "            \"make\":\"Toyota\"\n",
    "        },\n",
    "        {\n",
    "            \"basemodel\":\"Prius\",\n",
    "            \"engine_displacement_liters\":2,\n",
    "            \"cylinders\":3,\n",
    "            \"transmission\":\"Automatic 3-spd\",\n",
    "            \"vehicle_size_class\": \"Compact Cars\",\n",
    "            \"make\":\"Toyota\"\n",
    "        }\n",
    "    ]\n",
    "}"
   ]
  },
  {
   "cell_type": "code",
   "execution_count": 8,
   "metadata": {},
   "outputs": [
    {
     "data": {
      "text/plain": [
       "'{\"prediction\":[14.653973583174228,14.78117009301517]}\\n'"
      ]
     },
     "execution_count": 8,
     "metadata": {},
     "output_type": "execute_result"
    }
   ],
   "source": [
    "url_deployment = \"https://veh-autonomy-estimator.onrender.com/predict\"\n",
    "requests.post(url_deployment, json = data).text"
   ]
  },
  {
   "cell_type": "code",
   "execution_count": null,
   "metadata": {},
   "outputs": [],
   "source": []
  }
 ],
 "metadata": {
  "kernelspec": {
   "display_name": "poetry-u-EBJSZL-py3.11",
   "language": "python",
   "name": "python3"
  },
  "language_info": {
   "codemirror_mode": {
    "name": "ipython",
    "version": 3
   },
   "file_extension": ".py",
   "mimetype": "text/x-python",
   "name": "python",
   "nbconvert_exporter": "python",
   "pygments_lexer": "ipython3",
   "version": "3.11.4"
  }
 },
 "nbformat": 4,
 "nbformat_minor": 2
}
