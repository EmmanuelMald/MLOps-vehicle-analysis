{
 "cells": [
  {
   "cell_type": "code",
   "execution_count": 1,
   "metadata": {},
   "outputs": [],
   "source": [
    "import requests"
   ]
  },
  {
   "cell_type": "code",
   "execution_count": 8,
   "metadata": {},
   "outputs": [],
   "source": [
    "url = \"http://192.168.68.111:8080/predict\"\n",
    "\n",
    "data = {\n",
    "    \"features\": [\n",
    "        {\n",
    "            \"basemodel\": \"Prius\",\n",
    "            'engine_displacement_liters': 2.0,\n",
    "            'transmission': \"Automatic (variable gear ratios)\",\n",
    "            \"make\": \"Toyota\",\n",
    "            \"cylinders\": \"4.0\",\n",
    "            \"vehicle_size_class\": \"Midsize Cars\",\n",
    "            \"year\": 2024,\n",
    "            \"drive\": \"Front-Wheel Drive\",\n",
    "            \"fuel_type\": \"Regular\",\n",
    "            \"electric_motor\": \"222V Li-Ion\",\n",
    "            \"fuel_type1\": \"Regular Gasoline\",\n",
    "            \"start_stop\": True\n",
    "        },\n",
    "        {\n",
    "            \"basemodel\": \"Mustang\",\n",
    "            'engine_displacement_liters': 2.0,\n",
    "            'transmission': \"Automatic (variable gear ratios)\",\n",
    "            \"make\": \"Ford\",\n",
    "            \"cylinders\": \"4.0\",\n",
    "            \"vehicle_size_class\": \"Midsize Cars\",\n",
    "            \"year\": 2025,\n",
    "            \"drive\": \"Front-Wheel Drive\",\n",
    "            \"fuel_type\": \"Regular\",\n",
    "            \"electric_motor\": \"222V Li-Ion\",\n",
    "            \"fuel_type1\": \"Regular Gasoline\",\n",
    "            \"start_stop\": True\n",
    "        }\n",
    "        \n",
    "    ]\n",
    "}\n"
   ]
  },
  {
   "cell_type": "code",
   "execution_count": 9,
   "metadata": {},
   "outputs": [
    {
     "data": {
      "text/plain": [
       "'{\"prediction\":[107.61522024054962,165.65251358020305]}\\n'"
      ]
     },
     "execution_count": 9,
     "metadata": {},
     "output_type": "execute_result"
    }
   ],
   "source": [
    "requests.post(url, json=data).text"
   ]
  },
  {
   "cell_type": "code",
   "execution_count": null,
   "metadata": {},
   "outputs": [],
   "source": []
  }
 ],
 "metadata": {
  "kernelspec": {
   "display_name": "poetry-u-EBJSZL-py3.11",
   "language": "python",
   "name": "python3"
  },
  "language_info": {
   "codemirror_mode": {
    "name": "ipython",
    "version": 3
   },
   "file_extension": ".py",
   "mimetype": "text/x-python",
   "name": "python",
   "nbconvert_exporter": "python",
   "pygments_lexer": "ipython3",
   "version": "3.11.4"
  }
 },
 "nbformat": 4,
 "nbformat_minor": 2
}
